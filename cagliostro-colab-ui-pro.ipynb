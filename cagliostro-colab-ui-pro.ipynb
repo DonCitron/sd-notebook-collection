{
  "cells": [
    {
      "cell_type": "markdown",
      "source": [
        "# Due to:\n",
        "- ## Google Colab updating Python to 3.10, please refer to the [official statements](https://medium.com/google-colab/colab-updated-to-python-3-10-27eb02daa162).\n",
        "- ## Finally finding a way to avoid the warning notification if `stable-diffusion-webui` string exists, and\n",
        "- ## Wanting to minimize the number of maintained notebooks.\n",
        "\n",
        "## I'm sorry, but I have to announce that we're moving back to [Cagliostro Colab UI](https://colab.research.google.com/github/Linaqruf/sd-notebook-collection/blob/main/cagliostro-colab-ui.ipynb).\n",
        "\n"
      ],
      "metadata": {
        "id": "t7mp9VR4IpUS"
      }
    }
  ],
  "metadata": {
    "accelerator": "GPU",
    "colab": {
      "private_outputs": true,
      "provenance": []
    },
    "gpuClass": "standard",
    "kernelspec": {
      "display_name": "Python 3",
      "name": "python3"
    },
    "language_info": {
      "name": "python"
    }
  },
  "nbformat": 4,
  "nbformat_minor": 0
}